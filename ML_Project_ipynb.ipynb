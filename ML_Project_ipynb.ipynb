{
  "cells": [
    {
      "cell_type": "markdown",
      "metadata": {
        "id": "view-in-github",
        "colab_type": "text"
      },
      "source": [
        "<a href=\"https://colab.research.google.com/github/Jaya17-11/Sentiment-Analysis/blob/main/ML_Project_ipynb.ipynb\" target=\"_parent\"><img src=\"https://colab.research.google.com/assets/colab-badge.svg\" alt=\"Open In Colab\"/></a>"
      ]
    },
    {
      "cell_type": "markdown",
      "metadata": {
        "id": "1024359d"
      },
      "source": [
        "# Real-Time Sentiment Analysis"
      ]
    },
    {
      "cell_type": "code",
      "execution_count": 1,
      "metadata": {
        "id": "tOzq7B86jmyd"
      },
      "outputs": [],
      "source": [
        "import numpy as np\n",
        "import pandas as pd\n",
        "from sklearn.model_selection import train_test_split\n",
        "from sklearn.preprocessing import StandardScaler\n",
        "from sklearn.metrics import classification_report,  accuracy_score"
      ]
    },
    {
      "cell_type": "code",
      "execution_count": 2,
      "metadata": {
        "colab": {
          "base_uri": "https://localhost:8080/"
        },
        "id": "28b8e8df",
        "outputId": "15387ab3-5d39-4e34-9b28-c367ca9628e9"
      },
      "outputs": [
        {
          "output_type": "stream",
          "name": "stdout",
          "text": [
            "Requirement already satisfied: nltk in /usr/local/lib/python3.12/dist-packages (3.9.1)\n",
            "Requirement already satisfied: click in /usr/local/lib/python3.12/dist-packages (from nltk) (8.3.0)\n",
            "Requirement already satisfied: joblib in /usr/local/lib/python3.12/dist-packages (from nltk) (1.5.2)\n",
            "Requirement already satisfied: regex>=2021.8.3 in /usr/local/lib/python3.12/dist-packages (from nltk) (2024.11.6)\n",
            "Requirement already satisfied: tqdm in /usr/local/lib/python3.12/dist-packages (from nltk) (4.67.1)\n"
          ]
        }
      ],
      "source": [
        "# Checking whether NLTK installed or not\n",
        "%pip install nltk"
      ]
    },
    {
      "cell_type": "code",
      "execution_count": 3,
      "metadata": {
        "colab": {
          "base_uri": "https://localhost:8080/",
          "height": 362
        },
        "id": "7lfy5YBtEMRK",
        "outputId": "f2fc226d-f8bc-42e8-8f6a-beee61c7db45"
      },
      "outputs": [
        {
          "output_type": "stream",
          "name": "stdout",
          "text": [
            "<class 'pandas.core.frame.DataFrame'>\n",
            "RangeIndex: 50000 entries, 0 to 49999\n",
            "Data columns (total 2 columns):\n",
            " #   Column     Non-Null Count  Dtype \n",
            "---  ------     --------------  ----- \n",
            " 0   review     50000 non-null  object\n",
            " 1   sentiment  50000 non-null  object\n",
            "dtypes: object(2)\n",
            "memory usage: 781.4+ KB\n"
          ]
        },
        {
          "output_type": "execute_result",
          "data": {
            "text/plain": [
              "                                              review sentiment\n",
              "0  One of the other reviewers has mentioned that ...  positive\n",
              "1  A wonderful little production. <br /><br />The...  positive\n",
              "2  I thought this was a wonderful way to spend ti...  positive\n",
              "3  Basically there's a family where a little boy ...  negative\n",
              "4  Petter Mattei's \"Love in the Time of Money\" is...  positive"
            ],
            "text/html": [
              "\n",
              "  <div id=\"df-e96b4524-ba17-4767-befb-cae581c0601f\" class=\"colab-df-container\">\n",
              "    <div>\n",
              "<style scoped>\n",
              "    .dataframe tbody tr th:only-of-type {\n",
              "        vertical-align: middle;\n",
              "    }\n",
              "\n",
              "    .dataframe tbody tr th {\n",
              "        vertical-align: top;\n",
              "    }\n",
              "\n",
              "    .dataframe thead th {\n",
              "        text-align: right;\n",
              "    }\n",
              "</style>\n",
              "<table border=\"1\" class=\"dataframe\">\n",
              "  <thead>\n",
              "    <tr style=\"text-align: right;\">\n",
              "      <th></th>\n",
              "      <th>review</th>\n",
              "      <th>sentiment</th>\n",
              "    </tr>\n",
              "  </thead>\n",
              "  <tbody>\n",
              "    <tr>\n",
              "      <th>0</th>\n",
              "      <td>One of the other reviewers has mentioned that ...</td>\n",
              "      <td>positive</td>\n",
              "    </tr>\n",
              "    <tr>\n",
              "      <th>1</th>\n",
              "      <td>A wonderful little production. &lt;br /&gt;&lt;br /&gt;The...</td>\n",
              "      <td>positive</td>\n",
              "    </tr>\n",
              "    <tr>\n",
              "      <th>2</th>\n",
              "      <td>I thought this was a wonderful way to spend ti...</td>\n",
              "      <td>positive</td>\n",
              "    </tr>\n",
              "    <tr>\n",
              "      <th>3</th>\n",
              "      <td>Basically there's a family where a little boy ...</td>\n",
              "      <td>negative</td>\n",
              "    </tr>\n",
              "    <tr>\n",
              "      <th>4</th>\n",
              "      <td>Petter Mattei's \"Love in the Time of Money\" is...</td>\n",
              "      <td>positive</td>\n",
              "    </tr>\n",
              "  </tbody>\n",
              "</table>\n",
              "</div>\n",
              "    <div class=\"colab-df-buttons\">\n",
              "\n",
              "  <div class=\"colab-df-container\">\n",
              "    <button class=\"colab-df-convert\" onclick=\"convertToInteractive('df-e96b4524-ba17-4767-befb-cae581c0601f')\"\n",
              "            title=\"Convert this dataframe to an interactive table.\"\n",
              "            style=\"display:none;\">\n",
              "\n",
              "  <svg xmlns=\"http://www.w3.org/2000/svg\" height=\"24px\" viewBox=\"0 -960 960 960\">\n",
              "    <path d=\"M120-120v-720h720v720H120Zm60-500h600v-160H180v160Zm220 220h160v-160H400v160Zm0 220h160v-160H400v160ZM180-400h160v-160H180v160Zm440 0h160v-160H620v160ZM180-180h160v-160H180v160Zm440 0h160v-160H620v160Z\"/>\n",
              "  </svg>\n",
              "    </button>\n",
              "\n",
              "  <style>\n",
              "    .colab-df-container {\n",
              "      display:flex;\n",
              "      gap: 12px;\n",
              "    }\n",
              "\n",
              "    .colab-df-convert {\n",
              "      background-color: #E8F0FE;\n",
              "      border: none;\n",
              "      border-radius: 50%;\n",
              "      cursor: pointer;\n",
              "      display: none;\n",
              "      fill: #1967D2;\n",
              "      height: 32px;\n",
              "      padding: 0 0 0 0;\n",
              "      width: 32px;\n",
              "    }\n",
              "\n",
              "    .colab-df-convert:hover {\n",
              "      background-color: #E2EBFA;\n",
              "      box-shadow: 0px 1px 2px rgba(60, 64, 67, 0.3), 0px 1px 3px 1px rgba(60, 64, 67, 0.15);\n",
              "      fill: #174EA6;\n",
              "    }\n",
              "\n",
              "    .colab-df-buttons div {\n",
              "      margin-bottom: 4px;\n",
              "    }\n",
              "\n",
              "    [theme=dark] .colab-df-convert {\n",
              "      background-color: #3B4455;\n",
              "      fill: #D2E3FC;\n",
              "    }\n",
              "\n",
              "    [theme=dark] .colab-df-convert:hover {\n",
              "      background-color: #434B5C;\n",
              "      box-shadow: 0px 1px 3px 1px rgba(0, 0, 0, 0.15);\n",
              "      filter: drop-shadow(0px 1px 2px rgba(0, 0, 0, 0.3));\n",
              "      fill: #FFFFFF;\n",
              "    }\n",
              "  </style>\n",
              "\n",
              "    <script>\n",
              "      const buttonEl =\n",
              "        document.querySelector('#df-e96b4524-ba17-4767-befb-cae581c0601f button.colab-df-convert');\n",
              "      buttonEl.style.display =\n",
              "        google.colab.kernel.accessAllowed ? 'block' : 'none';\n",
              "\n",
              "      async function convertToInteractive(key) {\n",
              "        const element = document.querySelector('#df-e96b4524-ba17-4767-befb-cae581c0601f');\n",
              "        const dataTable =\n",
              "          await google.colab.kernel.invokeFunction('convertToInteractive',\n",
              "                                                    [key], {});\n",
              "        if (!dataTable) return;\n",
              "\n",
              "        const docLinkHtml = 'Like what you see? Visit the ' +\n",
              "          '<a target=\"_blank\" href=https://colab.research.google.com/notebooks/data_table.ipynb>data table notebook</a>'\n",
              "          + ' to learn more about interactive tables.';\n",
              "        element.innerHTML = '';\n",
              "        dataTable['output_type'] = 'display_data';\n",
              "        await google.colab.output.renderOutput(dataTable, element);\n",
              "        const docLink = document.createElement('div');\n",
              "        docLink.innerHTML = docLinkHtml;\n",
              "        element.appendChild(docLink);\n",
              "      }\n",
              "    </script>\n",
              "  </div>\n",
              "\n",
              "\n",
              "    <div id=\"df-7782ad40-5649-496c-8b23-d8c6b600d8eb\">\n",
              "      <button class=\"colab-df-quickchart\" onclick=\"quickchart('df-7782ad40-5649-496c-8b23-d8c6b600d8eb')\"\n",
              "                title=\"Suggest charts\"\n",
              "                style=\"display:none;\">\n",
              "\n",
              "<svg xmlns=\"http://www.w3.org/2000/svg\" height=\"24px\"viewBox=\"0 0 24 24\"\n",
              "     width=\"24px\">\n",
              "    <g>\n",
              "        <path d=\"M19 3H5c-1.1 0-2 .9-2 2v14c0 1.1.9 2 2 2h14c1.1 0 2-.9 2-2V5c0-1.1-.9-2-2-2zM9 17H7v-7h2v7zm4 0h-2V7h2v10zm4 0h-2v-4h2v4z\"/>\n",
              "    </g>\n",
              "</svg>\n",
              "      </button>\n",
              "\n",
              "<style>\n",
              "  .colab-df-quickchart {\n",
              "      --bg-color: #E8F0FE;\n",
              "      --fill-color: #1967D2;\n",
              "      --hover-bg-color: #E2EBFA;\n",
              "      --hover-fill-color: #174EA6;\n",
              "      --disabled-fill-color: #AAA;\n",
              "      --disabled-bg-color: #DDD;\n",
              "  }\n",
              "\n",
              "  [theme=dark] .colab-df-quickchart {\n",
              "      --bg-color: #3B4455;\n",
              "      --fill-color: #D2E3FC;\n",
              "      --hover-bg-color: #434B5C;\n",
              "      --hover-fill-color: #FFFFFF;\n",
              "      --disabled-bg-color: #3B4455;\n",
              "      --disabled-fill-color: #666;\n",
              "  }\n",
              "\n",
              "  .colab-df-quickchart {\n",
              "    background-color: var(--bg-color);\n",
              "    border: none;\n",
              "    border-radius: 50%;\n",
              "    cursor: pointer;\n",
              "    display: none;\n",
              "    fill: var(--fill-color);\n",
              "    height: 32px;\n",
              "    padding: 0;\n",
              "    width: 32px;\n",
              "  }\n",
              "\n",
              "  .colab-df-quickchart:hover {\n",
              "    background-color: var(--hover-bg-color);\n",
              "    box-shadow: 0 1px 2px rgba(60, 64, 67, 0.3), 0 1px 3px 1px rgba(60, 64, 67, 0.15);\n",
              "    fill: var(--button-hover-fill-color);\n",
              "  }\n",
              "\n",
              "  .colab-df-quickchart-complete:disabled,\n",
              "  .colab-df-quickchart-complete:disabled:hover {\n",
              "    background-color: var(--disabled-bg-color);\n",
              "    fill: var(--disabled-fill-color);\n",
              "    box-shadow: none;\n",
              "  }\n",
              "\n",
              "  .colab-df-spinner {\n",
              "    border: 2px solid var(--fill-color);\n",
              "    border-color: transparent;\n",
              "    border-bottom-color: var(--fill-color);\n",
              "    animation:\n",
              "      spin 1s steps(1) infinite;\n",
              "  }\n",
              "\n",
              "  @keyframes spin {\n",
              "    0% {\n",
              "      border-color: transparent;\n",
              "      border-bottom-color: var(--fill-color);\n",
              "      border-left-color: var(--fill-color);\n",
              "    }\n",
              "    20% {\n",
              "      border-color: transparent;\n",
              "      border-left-color: var(--fill-color);\n",
              "      border-top-color: var(--fill-color);\n",
              "    }\n",
              "    30% {\n",
              "      border-color: transparent;\n",
              "      border-left-color: var(--fill-color);\n",
              "      border-top-color: var(--fill-color);\n",
              "      border-right-color: var(--fill-color);\n",
              "    }\n",
              "    40% {\n",
              "      border-color: transparent;\n",
              "      border-right-color: var(--fill-color);\n",
              "      border-top-color: var(--fill-color);\n",
              "    }\n",
              "    60% {\n",
              "      border-color: transparent;\n",
              "      border-right-color: var(--fill-color);\n",
              "    }\n",
              "    80% {\n",
              "      border-color: transparent;\n",
              "      border-right-color: var(--fill-color);\n",
              "      border-bottom-color: var(--fill-color);\n",
              "    }\n",
              "    90% {\n",
              "      border-color: transparent;\n",
              "      border-bottom-color: var(--fill-color);\n",
              "    }\n",
              "  }\n",
              "</style>\n",
              "\n",
              "      <script>\n",
              "        async function quickchart(key) {\n",
              "          const quickchartButtonEl =\n",
              "            document.querySelector('#' + key + ' button');\n",
              "          quickchartButtonEl.disabled = true;  // To prevent multiple clicks.\n",
              "          quickchartButtonEl.classList.add('colab-df-spinner');\n",
              "          try {\n",
              "            const charts = await google.colab.kernel.invokeFunction(\n",
              "                'suggestCharts', [key], {});\n",
              "          } catch (error) {\n",
              "            console.error('Error during call to suggestCharts:', error);\n",
              "          }\n",
              "          quickchartButtonEl.classList.remove('colab-df-spinner');\n",
              "          quickchartButtonEl.classList.add('colab-df-quickchart-complete');\n",
              "        }\n",
              "        (() => {\n",
              "          let quickchartButtonEl =\n",
              "            document.querySelector('#df-7782ad40-5649-496c-8b23-d8c6b600d8eb button');\n",
              "          quickchartButtonEl.style.display =\n",
              "            google.colab.kernel.accessAllowed ? 'block' : 'none';\n",
              "        })();\n",
              "      </script>\n",
              "    </div>\n",
              "\n",
              "    </div>\n",
              "  </div>\n"
            ],
            "application/vnd.google.colaboratory.intrinsic+json": {
              "type": "dataframe",
              "variable_name": "df",
              "summary": "{\n  \"name\": \"df\",\n  \"rows\": 50000,\n  \"fields\": [\n    {\n      \"column\": \"review\",\n      \"properties\": {\n        \"dtype\": \"string\",\n        \"num_unique_values\": 49582,\n        \"samples\": [\n          \"\\\"Soul Plane\\\" is a horrible attempt at comedy that only should appeal people with thick skulls, bloodshot eyes and furry pawns. <br /><br />The plot is not only incoherent but also non-existent, acting is mostly sub sub-par with a gang of highly moronic and dreadful characters thrown in for bad measure, jokes are often spotted miles ahead and almost never even a bit amusing. This movie lacks any structure and is full of racial stereotypes that must have seemed old even in the fifties, the only thing it really has going for it is some pretty ladies, but really, if you want that you can rent something from the \\\"Adult\\\" section. OK?<br /><br />I can hardly see anything here to recommend since you'll probably have a lot a better and productive time chasing rats with a sledgehammer or inventing waterproof teabags or whatever.<br /><br />2/10\",\n          \"Guest from the Future tells a fascinating story of time travel, friendship, battle of good and evil -- all with a small budget, child actors, and few special effects. Something for Spielberg and Lucas to learn from. ;) A sixth-grader Kolya \\\"Nick\\\" Gerasimov finds a time machine in the basement of a decrepit building and travels 100 years into the future. He discovers a near-perfect, utopian society where robots play guitars and write poetry, everyone is kind to each other and people enjoy everything technology has to offer. Alice is the daughter of a prominent scientist who invented a device called Mielophone that allows to read minds of humans and animals. The device can be put to both good and bad use, depending on whose hands it falls into. When two evil space pirates from Saturn who want to rule the universe attempt to steal Mielophone, it falls into the hands of 20th century school boy Nick. With the pirates hot on his tracks, he travels back to his time, followed by the pirates, and Alice. Chaos, confusion and funny situations follow as the luckless pirates try to blend in with the earthlings. Alice enrolls in the same school Nick goes to and demonstrates superhuman abilities in PE class. The catch is, Alice doesn't know what Nick looks like, while the pirates do. Also, the pirates are able to change their appearance and turn literally into anyone. (Hmm, I wonder if this is where James Cameron got the idea for Terminator...) Who gets to Nick -- and Mielophone -- first? Excellent plot, non-stop adventures, and great soundtrack. I wish Hollywood made kid movies like this one...\",\n          \"\\\"National Treasure\\\" (2004) is a thoroughly misguided hodge-podge of plot entanglements that borrow from nearly every cloak and dagger government conspiracy clich\\u00e9 that has ever been written. The film stars Nicholas Cage as Benjamin Franklin Gates (how precious is that, I ask you?); a seemingly normal fellow who, for no other reason than being of a lineage of like-minded misguided fortune hunters, decides to steal a 'national treasure' that has been hidden by the United States founding fathers. After a bit of subtext and background that plays laughably (unintentionally) like Indiana Jones meets The Patriot, the film degenerates into one misguided whimsy after another \\u0096 attempting to create a 'Stanley Goodspeed' regurgitation of Nicholas Cage and launch the whole convoluted mess forward with a series of high octane, but disconnected misadventures.<br /><br />The relevancy and logic to having George Washington and his motley crew of patriots burying a king's ransom someplace on native soil, and then, going through the meticulous plan of leaving clues scattered throughout U.S. currency art work, is something that director Jon Turteltaub never quite gets around to explaining. Couldn't Washington found better usage for such wealth during the start up of the country? Hence, we are left with a mystery built on top of an enigma that is already on shaky ground by the time Ben appoints himself the new custodian of this untold wealth. Ben's intentions are noble \\u0096 if confusing. He's set on protecting the treasure. For who and when?\\u0085your guess is as good as mine.<br /><br />But there are a few problems with Ben's crusade. First up, his friend, Ian Holmes (Sean Bean) decides that he can't wait for Ben to make up his mind about stealing the Declaration of Independence from the National Archives (oh, yeah \\u0096 brilliant idea!). Presumably, the back of that famous document holds the secret answer to the ultimate fortune. So Ian tries to kill Ben. The assassination attempt is, of course, unsuccessful, if overly melodramatic. It also affords Ben the opportunity to pick up, and pick on, the very sultry curator of the archives, Abigail Chase (Diane Kruger). She thinks Ben is clearly a nut \\u0096 at least at the beginning. But true to action/romance form, Abby's resolve melts quicker than you can say, \\\"is that the Hope Diamond?\\\" The film moves into full X-File-ish mode, as the FBI, mistakenly believing that Ben is behind the theft, retaliate in various benign ways that lead to a multi-layering of action sequences reminiscent of Mission Impossible meets The Fugitive. Honestly, don't those guys ever get 'intelligence' information that is correct? In the final analysis, \\\"National Treasure\\\" isn't great film making, so much as it's a patchwork rehash of tired old bits from other movies, woven together from scraps, the likes of which would make IL' Betsy Ross blush.<br /><br />The Buena Vista DVD delivers a far more generous treatment than this film is deserving of. The anamorphic widescreen picture exhibits a very smooth and finely detailed image with very rich colors, natural flesh tones, solid blacks and clean whites. The stylized image is also free of blemishes and digital enhancements. The audio is 5.1 and delivers a nice sonic boom to your side and rear speakers with intensity and realism. Extras include a host of promotional junket material that is rather deep and over the top in its explanation of how and why this film was made. If only, as an audience, we had had more clarification as to why Ben and co. were chasing after an illusive treasure, this might have been one good flick. Extras conclude with the theatrical trailer, audio commentary and deleted scenes. Not for the faint-hearted \\u0096 just the thick-headed.\"\n        ],\n        \"semantic_type\": \"\",\n        \"description\": \"\"\n      }\n    },\n    {\n      \"column\": \"sentiment\",\n      \"properties\": {\n        \"dtype\": \"category\",\n        \"num_unique_values\": 2,\n        \"samples\": [\n          \"negative\",\n          \"positive\"\n        ],\n        \"semantic_type\": \"\",\n        \"description\": \"\"\n      }\n    }\n  ]\n}"
            }
          },
          "metadata": {},
          "execution_count": 3
        }
      ],
      "source": [
        "df=pd.read_csv(\"/content/IMDB Dataset.csv\")\n",
        "df.info()\n",
        "df.describe()\n",
        "df.head()"
      ]
    },
    {
      "cell_type": "code",
      "execution_count": 4,
      "metadata": {
        "colab": {
          "base_uri": "https://localhost:8080/",
          "height": 552
        },
        "id": "Jx5OgM6OEXj7",
        "outputId": "341a7759-2276-43ab-bf0e-f065391a2a28"
      },
      "outputs": [
        {
          "output_type": "stream",
          "name": "stdout",
          "text": [
            "Features (x) and Target (y) selected successfully.\n",
            "\n",
            "First 5 reviews (x):\n"
          ]
        },
        {
          "output_type": "display_data",
          "data": {
            "text/plain": [
              "0    One of the other reviewers has mentioned that ...\n",
              "1    A wonderful little production. <br /><br />The...\n",
              "2    I thought this was a wonderful way to spend ti...\n",
              "3    Basically there's a family where a little boy ...\n",
              "4    Petter Mattei's \"Love in the Time of Money\" is...\n",
              "Name: review, dtype: object"
            ],
            "text/html": [
              "<div>\n",
              "<style scoped>\n",
              "    .dataframe tbody tr th:only-of-type {\n",
              "        vertical-align: middle;\n",
              "    }\n",
              "\n",
              "    .dataframe tbody tr th {\n",
              "        vertical-align: top;\n",
              "    }\n",
              "\n",
              "    .dataframe thead th {\n",
              "        text-align: right;\n",
              "    }\n",
              "</style>\n",
              "<table border=\"1\" class=\"dataframe\">\n",
              "  <thead>\n",
              "    <tr style=\"text-align: right;\">\n",
              "      <th></th>\n",
              "      <th>review</th>\n",
              "    </tr>\n",
              "  </thead>\n",
              "  <tbody>\n",
              "    <tr>\n",
              "      <th>0</th>\n",
              "      <td>One of the other reviewers has mentioned that ...</td>\n",
              "    </tr>\n",
              "    <tr>\n",
              "      <th>1</th>\n",
              "      <td>A wonderful little production. &lt;br /&gt;&lt;br /&gt;The...</td>\n",
              "    </tr>\n",
              "    <tr>\n",
              "      <th>2</th>\n",
              "      <td>I thought this was a wonderful way to spend ti...</td>\n",
              "    </tr>\n",
              "    <tr>\n",
              "      <th>3</th>\n",
              "      <td>Basically there's a family where a little boy ...</td>\n",
              "    </tr>\n",
              "    <tr>\n",
              "      <th>4</th>\n",
              "      <td>Petter Mattei's \"Love in the Time of Money\" is...</td>\n",
              "    </tr>\n",
              "  </tbody>\n",
              "</table>\n",
              "</div><br><label><b>dtype:</b> object</label>"
            ]
          },
          "metadata": {}
        },
        {
          "output_type": "stream",
          "name": "stdout",
          "text": [
            "\n",
            "First 5 sentiments (y):\n"
          ]
        },
        {
          "output_type": "display_data",
          "data": {
            "text/plain": [
              "0    positive\n",
              "1    positive\n",
              "2    positive\n",
              "3    negative\n",
              "4    positive\n",
              "Name: sentiment, dtype: object"
            ],
            "text/html": [
              "<div>\n",
              "<style scoped>\n",
              "    .dataframe tbody tr th:only-of-type {\n",
              "        vertical-align: middle;\n",
              "    }\n",
              "\n",
              "    .dataframe tbody tr th {\n",
              "        vertical-align: top;\n",
              "    }\n",
              "\n",
              "    .dataframe thead th {\n",
              "        text-align: right;\n",
              "    }\n",
              "</style>\n",
              "<table border=\"1\" class=\"dataframe\">\n",
              "  <thead>\n",
              "    <tr style=\"text-align: right;\">\n",
              "      <th></th>\n",
              "      <th>sentiment</th>\n",
              "    </tr>\n",
              "  </thead>\n",
              "  <tbody>\n",
              "    <tr>\n",
              "      <th>0</th>\n",
              "      <td>positive</td>\n",
              "    </tr>\n",
              "    <tr>\n",
              "      <th>1</th>\n",
              "      <td>positive</td>\n",
              "    </tr>\n",
              "    <tr>\n",
              "      <th>2</th>\n",
              "      <td>positive</td>\n",
              "    </tr>\n",
              "    <tr>\n",
              "      <th>3</th>\n",
              "      <td>negative</td>\n",
              "    </tr>\n",
              "    <tr>\n",
              "      <th>4</th>\n",
              "      <td>positive</td>\n",
              "    </tr>\n",
              "  </tbody>\n",
              "</table>\n",
              "</div><br><label><b>dtype:</b> object</label>"
            ]
          },
          "metadata": {}
        }
      ],
      "source": [
        "# Assuming 'review' is the column with text data and 'sentiment' is the target column\n",
        "x = df['review']\n",
        "y = df['sentiment']\n",
        "\n",
        "print(\"Features (x) and Target (y) selected successfully.\")\n",
        "print(\"\\nFirst 5 reviews (x):\")\n",
        "display(x.head())\n",
        "print(\"\\nFirst 5 sentiments (y):\")\n",
        "display(y.head())"
      ]
    },
    {
      "cell_type": "code",
      "execution_count": 5,
      "metadata": {
        "colab": {
          "base_uri": "https://localhost:8080/"
        },
        "id": "4f805a0e",
        "outputId": "ff089f66-3d25-4aa7-b2db-39ddbddf1494"
      },
      "outputs": [
        {
          "output_type": "stream",
          "name": "stderr",
          "text": [
            "[nltk_data] Downloading package punkt to /root/nltk_data...\n",
            "[nltk_data]   Unzipping tokenizers/punkt.zip.\n",
            "[nltk_data] Downloading package stopwords to /root/nltk_data...\n",
            "[nltk_data]   Unzipping corpora/stopwords.zip.\n",
            "[nltk_data] Downloading package wordnet to /root/nltk_data...\n"
          ]
        },
        {
          "output_type": "execute_result",
          "data": {
            "text/plain": [
              "True"
            ]
          },
          "metadata": {},
          "execution_count": 5
        }
      ],
      "source": [
        "# Import libraries for text preprocessing and feature extraction\n",
        "import nltk\n",
        "from nltk.corpus import stopwords\n",
        "from nltk.stem import PorterStemmer, WordNetLemmatizer\n",
        "from sklearn.feature_extraction.text import TfidfVectorizer\n",
        "\n",
        "# Download necessary NLTK data (run this once)\n",
        "nltk.download('punkt')\n",
        "nltk.download('stopwords')\n",
        "nltk.download('wordnet')"
      ]
    },
    {
      "cell_type": "code",
      "execution_count": 6,
      "metadata": {
        "colab": {
          "base_uri": "https://localhost:8080/",
          "height": 276
        },
        "id": "0PuX7SrPdPGC",
        "outputId": "b8a37087-4e1b-4613-8dde-ceb7050d7a64"
      },
      "outputs": [
        {
          "output_type": "stream",
          "name": "stdout",
          "text": [
            "Applying text preprocessing...\n",
            "Text preprocessing complete.\n"
          ]
        },
        {
          "output_type": "display_data",
          "data": {
            "text/plain": [
              "0    one review mention watch oz episod youll hook ...\n",
              "1    wonder littl product film techniqu unassum old...\n",
              "2    thought wonder way spend time hot summer weeke...\n",
              "3    basic there famili littl boy jake think there ...\n",
              "4    petter mattei love time money visual stun film...\n",
              "Name: review, dtype: object"
            ],
            "text/html": [
              "<div>\n",
              "<style scoped>\n",
              "    .dataframe tbody tr th:only-of-type {\n",
              "        vertical-align: middle;\n",
              "    }\n",
              "\n",
              "    .dataframe tbody tr th {\n",
              "        vertical-align: top;\n",
              "    }\n",
              "\n",
              "    .dataframe thead th {\n",
              "        text-align: right;\n",
              "    }\n",
              "</style>\n",
              "<table border=\"1\" class=\"dataframe\">\n",
              "  <thead>\n",
              "    <tr style=\"text-align: right;\">\n",
              "      <th></th>\n",
              "      <th>review</th>\n",
              "    </tr>\n",
              "  </thead>\n",
              "  <tbody>\n",
              "    <tr>\n",
              "      <th>0</th>\n",
              "      <td>one review mention watch oz episod youll hook ...</td>\n",
              "    </tr>\n",
              "    <tr>\n",
              "      <th>1</th>\n",
              "      <td>wonder littl product film techniqu unassum old...</td>\n",
              "    </tr>\n",
              "    <tr>\n",
              "      <th>2</th>\n",
              "      <td>thought wonder way spend time hot summer weeke...</td>\n",
              "    </tr>\n",
              "    <tr>\n",
              "      <th>3</th>\n",
              "      <td>basic there famili littl boy jake think there ...</td>\n",
              "    </tr>\n",
              "    <tr>\n",
              "      <th>4</th>\n",
              "      <td>petter mattei love time money visual stun film...</td>\n",
              "    </tr>\n",
              "  </tbody>\n",
              "</table>\n",
              "</div><br><label><b>dtype:</b> object</label>"
            ]
          },
          "metadata": {}
        }
      ],
      "source": [
        "import re\n",
        "from nltk.corpus import stopwords\n",
        "from nltk.stem import PorterStemmer\n",
        "\n",
        "stemmer = PorterStemmer()\n",
        "stop_words = set(stopwords.words('english'))\n",
        "\n",
        "def preprocess_text(text):\n",
        "    text = re.sub(r'<.*?>', ' ', text)   # Remove HTML tags\n",
        "    text = re.sub(r'[^a-zA-Z\\s]', '', text).lower() #Remove alphanumeric and convert to lowercase\n",
        "    words = text.split()  # Tokenize the text\n",
        "    words = [stemmer.stem(word) for word in words if word not in stop_words]\n",
        "    return ' '.join(words)\n",
        "\n",
        "# Apply preprocessing to the review columns\n",
        "print(\"Applying text preprocessing...\")\n",
        "x_processed = x.apply(preprocess_text)\n",
        "\n",
        "print(\"Text preprocessing complete.\")\n",
        "display(x_processed.head())"
      ]
    },
    {
      "cell_type": "code",
      "execution_count": null,
      "metadata": {
        "colab": {
          "base_uri": "https://localhost:8080/"
        },
        "id": "SucnIrYRFRJj",
        "outputId": "f2c4119d-0b99-49e8-9da8-74493ec616f5"
      },
      "outputs": [
        {
          "output_type": "stream",
          "name": "stdout",
          "text": [
            "Performing TF-IDF feature extraction...\n",
            "TF-IDF feature extraction complete.\n",
            "Shape of TF-IDF features: (50000, 2500)\n"
          ]
        }
      ],
      "source": [
        "from sklearn.feature_extraction.text import TfidfVectorizer\n",
        "\n",
        "# Initialize TF-IDF Vectorizer\n",
        "tfidf_vectorizer = TfidfVectorizer(max_features=2500) # Example: consider top 2500 features\n",
        "\n",
        "print(\"Performing TF-IDF feature extraction...\")\n",
        "x_tfidf = tfidf_vectorizer.fit_transform(x_processed)\n",
        "\n",
        "print(\"TF-IDF feature extraction complete.\")\n",
        "print(\"Shape of TF-IDF features:\", x_tfidf.shape)"
      ]
    },
    {
      "cell_type": "code",
      "execution_count": null,
      "metadata": {
        "colab": {
          "base_uri": "https://localhost:8080/"
        },
        "id": "QHLOH8UNGD6Y",
        "outputId": "61d92b8b-9644-4ace-f85f-ce3a0832dace"
      },
      "outputs": [
        {
          "output_type": "stream",
          "name": "stdout",
          "text": [
            "Data split into training and testing sets.\n",
            "Shape of x_train: (40000, 2500)\n",
            "Shape of x_test: (10000, 2500)\n",
            "Shape of y_train: (40000,)\n",
            "Shape of y_test: (10000,)\n"
          ]
        }
      ],
      "source": [
        "from sklearn.model_selection import train_test_split\n",
        "\n",
        "x_train, x_test, y_train, y_test = train_test_split(x_tfidf, y, test_size=0.2, random_state=42)\n",
        "\n",
        "print(\"Data split into training and testing sets.\")\n",
        "print(\"Shape of x_train:\", x_train.shape)\n",
        "print(\"Shape of x_test:\", x_test.shape)\n",
        "print(\"Shape of y_train:\", y_train.shape)\n",
        "print(\"Shape of y_test:\", y_test.shape)"
      ]
    },
    {
      "cell_type": "markdown",
      "metadata": {
        "id": "f5aca161"
      },
      "source": [
        "## K-Nearest Neighbors (KNN)\n",
        "## Training the model with KNN\n",
        "\n",
        "K-Nearest Neighbors (KNN) is a simple, non-parametric supervised learning algorithm used for classification and regression. The core idea is that data points that are close to each other are likely to belong to the same class.\n",
        "\n"
      ]
    },
    {
      "cell_type": "code",
      "source": [
        "from sklearn.neighbors import KNeighborsClassifier"
      ],
      "metadata": {
        "id": "ZytedEJ0NaaR"
      },
      "execution_count": null,
      "outputs": []
    },
    {
      "cell_type": "code",
      "execution_count": null,
      "metadata": {
        "colab": {
          "base_uri": "https://localhost:8080/"
        },
        "id": "yHQ40X58CKMC",
        "outputId": "d29c6d2f-93f3-443e-f7ad-33156219ab79"
      },
      "outputs": [
        {
          "output_type": "stream",
          "name": "stdout",
          "text": [
            "Performing GridSearchCV to find optimal k...\n",
            "This may take some time depending on the dataset size and the parameter grid.\n",
            "Using a subset of size 10000 for GridSearchCV.\n",
            "Shape of x_train_subset: (10000, 2500)\n",
            "Shape of y_train_subset: (10000,)\n",
            "GridSearchCV complete.\n",
            "Optimal k found on the subset: 29\n",
            "Best cross-validation accuracy on the subset: 0.7830\n",
            "\n",
            "Optimal KNN model trained.\n"
          ]
        }
      ],
      "source": [
        "from sklearn.model_selection import GridSearchCV\n",
        "\n",
        "# Define a range of k values to test\n",
        "param_grid = {'n_neighbors': np.arange(1, 31, 2)} # Test k from 1 to 29 with step 2\n",
        "\n",
        "# Initialize KNN classifier\n",
        "knn = KNeighborsClassifier()\n",
        "grid_search = GridSearchCV(knn, param_grid, cv=3, scoring='accuracy')\n",
        "\n",
        "print(\"Performing GridSearchCV to find optimal k...\")\n",
        "print(\"This may take some time depending on the dataset size and the parameter grid.\")\n",
        "\n",
        "subset_size = 10000 # Example: use 10,000 samples for GridSearchCV\n",
        "\n",
        "# Ensure subset_size is not larger than the actual training data size\n",
        "if subset_size > x_train.shape[0]:\n",
        "    subset_size = x_train.shape[0]\n",
        "\n",
        "np.random.seed(42) # Add this line if you haven't set a global random state\n",
        "subset_indices = np.random.choice(x_train.shape[0], size=subset_size, replace=False)\n",
        "\n",
        "x_train_subset = x_train[subset_indices]\n",
        "y_train_subset = y_train.iloc[subset_indices] # Use .iloc with the indices\n",
        "\n",
        "print(f\"Using a subset of size {subset_size} for GridSearchCV.\")\n",
        "print(\"Shape of x_train_subset:\", x_train_subset.shape)\n",
        "print(\"Shape of y_train_subset:\", y_train_subset.shape)\n",
        "\n",
        "grid_search.fit(x_train_subset, y_train_subset)\n",
        "\n",
        "print(\"GridSearchCV complete.\")\n",
        "\n",
        "# Get the best k value and the best score\n",
        "best_k = grid_search.best_params_['n_neighbors']\n",
        "best_score = grid_search.best_score_\n",
        "\n",
        "print(f\"Optimal k found on the subset: {best_k}\")\n",
        "print(f\"Best cross-validation accuracy on the subset: {best_score:.4f}\")\n",
        "\n",
        "# You can now train your final KNN model using the optimal k on the entire training data\n",
        "optimal_knn = KNeighborsClassifier(n_neighbors=best_k)\n",
        "optimal_knn.fit(x_train, y_train)\n",
        "print(\"\\nOptimal KNN model trained.\")\n"
      ]
    },
    {
      "cell_type": "markdown",
      "metadata": {
        "id": "Vg1OI3oZCq63"
      },
      "source": [
        "# Testing with user input"
      ]
    },
    {
      "cell_type": "code",
      "execution_count": null,
      "metadata": {
        "colab": {
          "base_uri": "https://localhost:8080/"
        },
        "id": "6ba8e5bc",
        "outputId": "70eedfd2-df7c-4a4e-a598-ee465b193c14"
      },
      "outputs": [
        {
          "output_type": "stream",
          "name": "stdout",
          "text": [
            "Enter a movie review: \"It's full of laughable clichés; I'm still amazed that the actors delivered their lines with a straight face.\" This focuses on the predictability of the script and the poor acting.\n",
            "\n",
            "Predicted sentiment: negative\n"
          ]
        }
      ],
      "source": [
        "# Function to predict sentiment for a given review\n",
        "def predict_sentiment(review):\n",
        "    processed_review = preprocess_text(review)\n",
        "    review_tfidf = tfidf_vectorizer.transform([processed_review])\n",
        "\n",
        "    # Predict the sentiment using the trained KNN model\n",
        "    prediction = optimal_knn.predict(review_tfidf)\n",
        "\n",
        "    return prediction[0]\n",
        "\n",
        "# Get user input for a review\n",
        "user_review = input(\"Enter a movie review: \")\n",
        "predicted_sentiment = predict_sentiment(user_review)\n",
        "print(f\"\\nPredicted sentiment: {predicted_sentiment}\")"
      ]
    },
    {
      "cell_type": "code",
      "execution_count": null,
      "metadata": {
        "colab": {
          "base_uri": "https://localhost:8080/"
        },
        "id": "3970d606",
        "outputId": "1291be97-5d97-4f16-c4e3-98436b669310"
      },
      "outputs": [
        {
          "output_type": "stream",
          "name": "stdout",
          "text": [
            "Model Evaluation on the Test Set:\n",
            "Accuracy: 0.7877\n",
            "\n",
            "Classification Report:\n",
            "              precision    recall  f1-score   support\n",
            "\n",
            "    negative       0.83      0.72      0.77      4961\n",
            "    positive       0.76      0.85      0.80      5039\n",
            "\n",
            "    accuracy                           0.79     10000\n",
            "   macro avg       0.79      0.79      0.79     10000\n",
            "weighted avg       0.79      0.79      0.79     10000\n",
            "\n"
          ]
        }
      ],
      "source": [
        "from sklearn.metrics import classification_report, accuracy_score\n",
        "\n",
        "# Make predictions on the test set\n",
        "y_pred = optimal_knn.predict(x_test)\n",
        "\n",
        "# Evaluate the model\n",
        "print(\"Model Evaluation on the Test Set:\")\n",
        "print(\"Accuracy:\", accuracy_score(y_test, y_pred))\n",
        "print(\"\\nClassification Report:\")\n",
        "print(classification_report(y_test, y_pred))"
      ]
    },
    {
      "cell_type": "markdown",
      "metadata": {
        "id": "013bbc6f"
      },
      "source": [
        "# Naive Bayes\n",
        "## Training the model with Naive Bayes\n",
        "\n",
        "Naive Bayes is a probabilistic machine learning algorithm based on the Bayes' Theorem with a \"naive\" assumption of conditional independence between features. It is widely used for text classification tasks like sentiment analysis due to its simplicity and efficiency."
      ]
    },
    {
      "cell_type": "code",
      "execution_count": null,
      "metadata": {
        "id": "ad35dd25"
      },
      "outputs": [],
      "source": [
        "# import naive_bayes\n",
        "from sklearn.naive_bayes import MultinomialNB"
      ]
    },
    {
      "cell_type": "code",
      "execution_count": null,
      "metadata": {
        "colab": {
          "base_uri": "https://localhost:8080/"
        },
        "id": "e7c8684d",
        "outputId": "72dc48a8-f782-4da8-dc1f-113b7057d144"
      },
      "outputs": [
        {
          "output_type": "stream",
          "name": "stdout",
          "text": [
            "Training Naive Bayes model...\n",
            "Naive Bayes model trained.\n"
          ]
        }
      ],
      "source": [
        "from sklearn.naive_bayes import MultinomialNB\n",
        "\n",
        "# Initialize and train the Naive Bayes model\n",
        "print(\"Training Naive Bayes model...\")\n",
        "nb_model = MultinomialNB()\n",
        "nb_model.fit(x_train, y_train)\n",
        "print(\"Naive Bayes model trained.\")"
      ]
    },
    {
      "cell_type": "markdown",
      "metadata": {
        "id": "af2f028e"
      },
      "source": [
        "## Naive Bayes Model Evaluation - Confusion Matrix"
      ]
    },
    {
      "cell_type": "code",
      "execution_count": null,
      "metadata": {
        "colab": {
          "base_uri": "https://localhost:8080/",
          "height": 462
        },
        "id": "b3f3da3b",
        "outputId": "31061dae-6289-4478-d98b-aa0d387b92fd"
      },
      "outputs": [
        {
          "output_type": "stream",
          "name": "stdout",
          "text": [
            "Confusion Matrix for Naive Bayes Model:\n",
            "[[4153  808]\n",
            " [ 734 4305]]\n"
          ]
        },
        {
          "output_type": "display_data",
          "data": {
            "text/plain": [
              "<Figure size 600x400 with 2 Axes>"
            ],
            "image/png": "[encoded data removed]"
          },
          "metadata": {}
        }
      ],
      "source": [
        "from sklearn.metrics import confusion_matrix\n",
        "import seaborn as sns\n",
        "import matplotlib.pyplot as plt\n",
        "\n",
        "# Make predictions on the test set\n",
        "y_pred_nb = nb_model.predict(x_test)\n",
        "\n",
        "# Calculate the confusion matrix\n",
        "cm_nb = confusion_matrix(y_test, y_pred_nb)\n",
        "\n",
        "# Display the confusion matrix\n",
        "print(\"Confusion Matrix for Naive Bayes Model:\")\n",
        "print(cm_nb)\n",
        "\n",
        "# Optionally, visualize the confusion matrix\n",
        "plt.figure(figsize=(6, 4))\n",
        "sns.heatmap(cm_nb, annot=True, fmt='d', cmap='Blues', xticklabels=['Negative', 'Positive'], yticklabels=['Negative', 'Positive'])\n",
        "plt.xlabel('Predicted Label')\n",
        "plt.ylabel('True Label')\n",
        "plt.title('Naive Bayes Confusion Matrix')\n",
        "plt.show()"
      ]
    },
    {
      "cell_type": "code",
      "execution_count": null,
      "metadata": {
        "colab": {
          "base_uri": "https://localhost:8080/"
        },
        "id": "f720f28b",
        "outputId": "f5ceb237-60e0-4359-cfde-f8d75c3b8afe"
      },
      "outputs": [
        {
          "output_type": "stream",
          "name": "stdout",
          "text": [
            "Naive Bayes Model Evaluation on the Test Set:\n",
            "Accuracy: 0.8458\n",
            "\n",
            "Classification Report:\n",
            "              precision    recall  f1-score   support\n",
            "\n",
            "    negative       0.85      0.84      0.84      4961\n",
            "    positive       0.84      0.85      0.85      5039\n",
            "\n",
            "    accuracy                           0.85     10000\n",
            "   macro avg       0.85      0.85      0.85     10000\n",
            "weighted avg       0.85      0.85      0.85     10000\n",
            "\n"
          ]
        }
      ],
      "source": [
        "y_pred_nb = nb_model.predict(x_test)\n",
        "accuracy_nb = accuracy_score(y_test, y_pred_nb)\n",
        "classification_report_nb = classification_report(y_test, y_pred_nb)\n",
        "\n",
        "# Print the calculated accuracy and the classification report\n",
        "print(\"Naive Bayes Model Evaluation on the Test Set:\")\n",
        "print(\"Accuracy:\", accuracy_nb)\n",
        "print(\"\\nClassification Report:\")\n",
        "print(classification_report_nb)"
      ]
    },
    {
      "cell_type": "markdown",
      "metadata": {
        "id": "b30e491a"
      },
      "source": [
        "## Comparing results\n",
        "\n",
        "Compare the performance of the Naive Bayes model with the previously trained KNN model.\n"
      ]
    },
    {
      "cell_type": "code",
      "execution_count": null,
      "metadata": {
        "colab": {
          "base_uri": "https://localhost:8080/"
        },
        "id": "ccd75e2a",
        "outputId": "0b4a0030-5518-47f9-e23a-ca0b21f63241"
      },
      "outputs": [
        {
          "output_type": "stream",
          "name": "stdout",
          "text": [
            "Naive Bayes Model Test Accuracy: 0.8458\n",
            "KNN Model Test Accuracy: 0.7877\n",
            "\n",
            "Based on accuracy, the Naive Bayes model performed better than the KNN model.\n"
          ]
        }
      ],
      "source": [
        "knn_accuracy = optimal_knn.score(x_test, y_test)\n",
        "\n",
        "# Print both accuracies for comparison\n",
        "print(f\"Naive Bayes Model Test Accuracy: {accuracy_nb:.4f}\")\n",
        "print(f\"KNN Model Test Accuracy: {knn_accuracy:.4f}\")\n",
        "\n",
        "# Briefly discuss the performance comparison\n",
        "if accuracy_nb > knn_accuracy:\n",
        "    print(\"\\nBased on accuracy, the Naive Bayes model performed better than the KNN model.\")\n",
        "elif knn_accuracy > accuracy_nb:\n",
        "    print(\"\\nBased on accuracy, the KNN model performed better than the Naive Bayes model.\")\n",
        "else:\n",
        "    print(\"\\nBoth models achieved the same accuracy on the test set.\")"
      ]
    },
    {
      "cell_type": "markdown",
      "metadata": {
        "id": "FAgPlYiPW3gK"
      },
      "source": [
        "Testing the model with user input"
      ]
    },
    {
      "cell_type": "code",
      "execution_count": null,
      "metadata": {
        "colab": {
          "base_uri": "https://localhost:8080/"
        },
        "id": "c6750d9b",
        "outputId": "f2cb6eb0-54ae-4551-df4b-5278aa8dceb2"
      },
      "outputs": [
        {
          "output_type": "stream",
          "name": "stdout",
          "text": [
            "Sample Review: 'This movie was absolutely fantastic! I loved every minute of it.'\n",
            "Predicted sentiment (Naive Bayes): positive\n",
            "Enter another movie review for Naive Bayes prediction: Say the type of film and when it was made\n",
            "\n",
            "Predicted sentiment (Naive Bayes) for your review: negative\n"
          ]
        }
      ],
      "source": [
        "def predict_sentiment_nb(review):\n",
        "    processed_review = preprocess_text(review)\n",
        "    review_tfidf = tfidf_vectorizer.transform([processed_review])\n",
        "\n",
        "    # Predict the sentiment using the trained Naive Bayes model\n",
        "    prediction = nb_model.predict(review_tfidf)\n",
        "\n",
        "    return prediction[0]\n",
        "\n",
        "sample_review = \"This movie was absolutely fantastic! I loved every minute of it.\"\n",
        "predicted_sentiment_nb = predict_sentiment_nb(sample_review)\n",
        "\n",
        "print(f\"Sample Review: '{sample_review}'\")\n",
        "print(f\"Predicted sentiment (Naive Bayes): {predicted_sentiment_nb}\")\n",
        "user_review_nb = input(\"Enter another movie review for Naive Bayes prediction: \")\n",
        "predicted_sentiment_user_nb = predict_sentiment_nb(user_review_nb)\n",
        "print(f\"\\nPredicted sentiment (Naive Bayes) for your review: {predicted_sentiment_user_nb}\")"
      ]
    },
    {
      "cell_type": "markdown",
      "metadata": {
        "id": "lNp6alCJXVR9"
      },
      "source": [
        "#Training the model with SVM"
      ]
    },
    {
      "cell_type": "code",
      "execution_count": null,
      "metadata": {
        "id": "3216c3e5"
      },
      "outputs": [],
      "source": [
        "from sklearn.svm import LinearSVC"
      ]
    },
    {
      "cell_type": "code",
      "execution_count": null,
      "metadata": {
        "colab": {
          "base_uri": "https://localhost:8080/"
        },
        "id": "685ad60f",
        "outputId": "4ad29f5d-322b-459b-9c48-b640e030da4e"
      },
      "outputs": [
        {
          "output_type": "stream",
          "name": "stdout",
          "text": [
            "Training LinearSVC model...\n",
            "LinearSVC model trained.\n"
          ]
        }
      ],
      "source": [
        "from sklearn.svm import LinearSVC\n",
        "\n",
        "# Initialize and train the LinearSVC model\n",
        "print(\"Training LinearSVC model...\")\n",
        "svm_model = LinearSVC(random_state=42) # Add random_state for reproducibility\n",
        "svm_model.fit(x_train, y_train)\n",
        "print(\"LinearSVC model trained.\")"
      ]
    },
    {
      "cell_type": "markdown",
      "metadata": {
        "id": "34285e11"
      },
      "source": [
        "## SVM Model Evaluation - Confusion Matrix"
      ]
    },
    {
      "cell_type": "code",
      "execution_count": null,
      "metadata": {
        "colab": {
          "base_uri": "https://localhost:8080/",
          "height": 462
        },
        "id": "4718ab34",
        "outputId": "f5cb6689-927f-4c04-ce47-50c794c911ba"
      },
      "outputs": [
        {
          "output_type": "stream",
          "name": "stdout",
          "text": [
            "Confusion Matrix for SVM Model:\n",
            "[[4280  681]\n",
            " [ 558 4481]]\n"
          ]
        },
        {
          "output_type": "display_data",
          "data": {
            "text/plain": [
              "<Figure size 600x400 with 2 Axes>"
            ],
            "image/png": "[encoded data removed]"
          },
          "metadata": {}
        }
      ],
      "source": [
        "from sklearn.metrics import confusion_matrix\n",
        "import seaborn as sns\n",
        "import matplotlib.pyplot as plt\n",
        "\n",
        "# Make predictions on the test set\n",
        "y_pred_svm = svm_model.predict(x_test)\n",
        "\n",
        "# Calculate the confusion matrix\n",
        "cm_svm = confusion_matrix(y_test, y_pred_svm)\n",
        "\n",
        "# Display the confusion matrix\n",
        "print(\"Confusion Matrix for SVM Model:\")\n",
        "print(cm_svm)\n",
        "\n",
        "# Optionally, visualize the confusion matrix\n",
        "plt.figure(figsize=(6, 4))\n",
        "sns.heatmap(cm_svm, annot=True, fmt='d', cmap='Blues', xticklabels=['Negative', 'Positive'], yticklabels=['Negative', 'Positive'])\n",
        "plt.xlabel('Predicted Label')\n",
        "plt.ylabel('True Label')\n",
        "plt.title('SVM Confusion Matrix')\n",
        "plt.show()"
      ]
    },
    {
      "cell_type": "markdown",
      "metadata": {
        "id": "f93a0f2c"
      },
      "source": [
        "## SVM Model Evaluation - ROC Curve and AUC"
      ]
    },
    {
      "cell_type": "code",
      "execution_count": null,
      "metadata": {
        "colab": {
          "base_uri": "https://localhost:8080/",
          "height": 581
        },
        "id": "15d3e4c4",
        "outputId": "26437601-eaea-498f-de19-f471a3da719a"
      },
      "outputs": [
        {
          "output_type": "display_data",
          "data": {
            "text/plain": [
              "<Figure size 800x600 with 1 Axes>"
            ],
            "image/png": "[encoded data removed]"
          },
          "metadata": {}
        },
        {
          "output_type": "stream",
          "name": "stdout",
          "text": [
            "SVM Model ROC AUC: 0.9511\n"
          ]
        }
      ],
      "source": [
        "from sklearn.metrics import roc_curve, auc\n",
        "from sklearn.preprocessing import LabelEncoder\n",
        "\n",
        "# Convert sentiment labels to numerical (0 for negative, 1 for positive) for ROC curve\n",
        "label_encoder = LabelEncoder()\n",
        "# Fit the label encoder on the entire sentiment column (y)\n",
        "label_encoder.fit(y)\n",
        "\n",
        "y_test_numeric = label_encoder.transform(y_test)\n",
        "y_pred_svm_numeric = label_encoder.transform(y_pred_svm)\n",
        "\n",
        "y_scores_svm = svm_model.decision_function(x_test)\n",
        "\n",
        "# Calculate ROC curve\n",
        "fpr_svm, tpr_svm, thresholds_svm = roc_curve(y_test_numeric, y_scores_svm)\n",
        "\n",
        "# Calculate AUC\n",
        "roc_auc_svm = auc(fpr_svm, tpr_svm)\n",
        "\n",
        "# Plot ROC curve\n",
        "plt.figure(figsize=(8, 6))\n",
        "plt.plot(fpr_svm, tpr_svm, color='darkorange', lw=2, label=f'ROC curve (AUC = {roc_auc_svm:.2f})')\n",
        "plt.plot([0, 1], [0, 1], color='navy', lw=2, linestyle='--')\n",
        "plt.xlim([0.0, 1.0])\n",
        "plt.ylim([0.0, 1.05])\n",
        "plt.xlabel('False Positive Rate')\n",
        "plt.ylabel('True Positive Rate')\n",
        "plt.title('Receiver Operating Characteristic (ROC) Curve for SVM')\n",
        "plt.legend(loc=\"lower right\")\n",
        "plt.show()\n",
        "\n",
        "print(f\"SVM Model ROC AUC: {roc_auc_svm:.4f}\")"
      ]
    },
    {
      "cell_type": "code",
      "execution_count": null,
      "metadata": {
        "colab": {
          "base_uri": "https://localhost:8080/"
        },
        "id": "6b535b27",
        "outputId": "eecb4d7f-817b-4faa-f751-baf4fa77d7ac"
      },
      "outputs": [
        {
          "output_type": "stream",
          "name": "stdout",
          "text": [
            "SVM Model Evaluation on the Test Set:\n",
            "Accuracy: 0.8761\n",
            "\n",
            "Classification Report:\n",
            "              precision    recall  f1-score   support\n",
            "\n",
            "    negative       0.88      0.86      0.87      4961\n",
            "    positive       0.87      0.89      0.88      5039\n",
            "\n",
            "    accuracy                           0.88     10000\n",
            "   macro avg       0.88      0.88      0.88     10000\n",
            "weighted avg       0.88      0.88      0.88     10000\n",
            "\n"
          ]
        }
      ],
      "source": [
        "y_pred_svm = svm_model.predict(x_test)\n",
        "accuracy_svm = accuracy_score(y_test, y_pred_svm)\n",
        "classification_report_svm = classification_report(y_test, y_pred_svm)\n",
        "\n",
        "# Print the calculated accuracy and the classification report\n",
        "print(\"SVM Model Evaluation on the Test Set:\")\n",
        "print(\"Accuracy:\", accuracy_svm)\n",
        "print(\"\\nClassification Report:\")\n",
        "print(classification_report_svm)"
      ]
    },
    {
      "cell_type": "markdown",
      "metadata": {
        "id": "0096c4bd"
      },
      "source": [
        "## Comparing results\n",
        "\n",
        "Compare the performance of the SVM model with the previously trained KNN and Naive Bayes models.\n"
      ]
    },
    {
      "cell_type": "code",
      "execution_count": null,
      "metadata": {
        "colab": {
          "base_uri": "https://localhost:8080/"
        },
        "id": "b34fea1f",
        "outputId": "b52a0dfd-8c54-48f4-945d-683aa31abb9d"
      },
      "outputs": [
        {
          "output_type": "stream",
          "name": "stdout",
          "text": [
            "Naive Bayes Model Test Accuracy: 0.8458\n",
            "KNN Model Test Accuracy: 0.7877\n",
            "SVM Model Test Accuracy: 0.8761\n",
            "\n",
            "--- Model Comparison ---\n",
            "The SVM model performed best on the test set.\n"
          ]
        }
      ],
      "source": [
        "print(f\"Naive Bayes Model Test Accuracy: {accuracy_nb:.4f}\")\n",
        "knn_accuracy = optimal_knn.score(x_test, y_test)\n",
        "print(f\"KNN Model Test Accuracy: {knn_accuracy:.4f}\")\n",
        "print(f\"SVM Model Test Accuracy: {accuracy_svm:.4f}\")\n",
        "\n",
        "# Compare the accuracies of the three models\n",
        "print(\"\\n--- Model Comparison ---\")\n",
        "if accuracy_svm > accuracy_nb and accuracy_svm > knn_accuracy:\n",
        "    print(\"The SVM model performed best on the test set.\")\n",
        "elif accuracy_nb > accuracy_svm and accuracy_nb > knn_accuracy:\n",
        "    print(\"The Naive Bayes model performed best on the test set.\")\n",
        "elif knn_accuracy > accuracy_svm and knn_accuracy > accuracy_nb:\n",
        "    print(\"The KNN model performed best on the test set.\")\n",
        "elif accuracy_svm == accuracy_nb and accuracy_svm > knn_accuracy:\n",
        "    print(\"The SVM and Naive Bayes models performed equally best on the test set.\")\n",
        "elif accuracy_svm == knn_accuracy and accuracy_svm > accuracy_nb:\n",
        "    print(\"The SVM and KNN models performed equally best on the test set.\")\n",
        "elif accuracy_nb == knn_accuracy and accuracy_nb > accuracy_svm:\n",
        "    print(\"The Naive Bayes and KNN models performed equally best on the test set.\")\n",
        "else:\n",
        "    print(\"All three models performed equally on the test set or their performance is very close.\")\n"
      ]
    },
    {
      "cell_type": "markdown",
      "metadata": {
        "id": "CgtR_bUgYKTH"
      },
      "source": [
        "Testing SVM with user input"
      ]
    },
    {
      "cell_type": "code",
      "execution_count": null,
      "metadata": {
        "colab": {
          "base_uri": "https://localhost:8080/"
        },
        "id": "6fd2782e",
        "outputId": "b7d5e80a-4ceb-48a8-f512-f9496ebd0f27"
      },
      "outputs": [
        {
          "output_type": "stream",
          "name": "stdout",
          "text": [
            "Sample Review: 'This movie was absolutely amazing! The acting was superb and the story was captivating.'\n",
            "Predicted sentiment (SVM): positive\n",
            "Enter another movie review for SVM prediction: I love the actors in this film.\n",
            "\n",
            "Predicted sentiment (SVM) for your review: positive\n"
          ]
        }
      ],
      "source": [
        "# Define a function to predict sentiment for a given review using the SVM model\n",
        "def predict_sentiment_svm(review):\n",
        "    processed_review = preprocess_text(review)\n",
        "    review_tfidf = tfidf_vectorizer.transform([processed_review])\n",
        "\n",
        "    # Predict the sentiment using the trained SVM model\n",
        "    prediction = svm_model.predict(review_tfidf)\n",
        "\n",
        "    return prediction[0]\n",
        "sample_review_svm = \"This movie was absolutely amazing! The acting was superb and the story was captivating.\"\n",
        "predicted_sentiment_svm = predict_sentiment_svm(sample_review_svm)\n",
        "\n",
        "print(f\"Sample Review: '{sample_review_svm}'\")\n",
        "print(f\"Predicted sentiment (SVM): {predicted_sentiment_svm}\")\n",
        "\n",
        "# Optionally, include code to take a movie review as input from the user\n",
        "user_review_svm = input(\"Enter another movie review for SVM prediction: \")\n",
        "predicted_sentiment_user_svm = predict_sentiment_svm(user_review_svm)\n",
        "print(f\"\\nPredicted sentiment (SVM) for your review: {predicted_sentiment_user_svm}\")"
      ]
    },
    {
      "cell_type": "markdown",
      "metadata": {
        "id": "ournKsfEYRT3"
      },
      "source": [
        "# Performance metrics for KNN,Naive Bayes,SVM"
      ]
    },
    {
      "cell_type": "code",
      "execution_count": null,
      "metadata": {
        "colab": {
          "base_uri": "https://localhost:8080/",
          "height": 468
        },
        "id": "3ebea3d2",
        "outputId": "a10353d3-6813-4b3f-d306-08322a12b2bb"
      },
      "outputs": [
        {
          "output_type": "display_data",
          "data": {
            "text/plain": [
              "<Figure size 800x500 with 1 Axes>"
            ],
            "image/png": "[encoded data removed]"
          },
          "metadata": {}
        }
      ],
      "source": [
        "import matplotlib.pyplot as plt\n",
        "import pandas as pd\n",
        "\n",
        "\n",
        "model_names = ['KNN', 'Naive Bayes', 'SVM']\n",
        "accuracy_scores = [knn_accuracy, accuracy_nb, accuracy_svm]\n",
        "\n",
        "# Create a pandas DataFrame for easier plotting\n",
        "performance_df = pd.DataFrame({\n",
        "    'Model': model_names,\n",
        "    'Accuracy': accuracy_scores\n",
        "})\n",
        "\n",
        "# Sort the DataFrame by accuracy for better visualization (optional)\n",
        "performance_df = performance_df.sort_values(by='Accuracy', ascending=False)\n",
        "\n",
        "# Create the bar chart\n",
        "plt.figure(figsize=(8, 5))\n",
        "plt.bar(performance_df['Model'], performance_df['Accuracy'], color=['skyblue', 'lightgreen', 'salmon'])\n",
        "plt.ylim(0, 1) # Set y-axis limit from 0 to 1 for accuracy\n",
        "plt.ylabel('Accuracy')\n",
        "plt.title('Model Comparison - Test Set Accuracy')\n",
        "plt.show()"
      ]
    },
    {
      "cell_type": "code",
      "source": [
        "import joblib\n",
        "\n",
        "# Assuming svm_model is your best performing model and label_encoder is used for sentiment labels\n",
        "joblib.dump(svm_model, \"final_model.pkl\")\n",
        "joblib.dump(label_encoder, \"label_encoder.pkl\")\n",
        "# There is no scaler used in this notebook, so we won't save a scaler.\n",
        "\n",
        "print(\" Final Model + Encoder Saved Successfully!\")"
      ],
      "metadata": {
        "colab": {
          "base_uri": "https://localhost:8080/"
        },
        "id": "q-Md4qOSUbgX",
        "outputId": "ae0a8594-97aa-4ffe-b761-b1442ff8c93d"
      },
      "execution_count": null,
      "outputs": [
        {
          "output_type": "stream",
          "name": "stdout",
          "text": [
            " Final Model + Encoder Saved Successfully!\n"
          ]
        }
      ]
    },
    {
      "cell_type": "code",
      "metadata": {
        "colab": {
          "base_uri": "https://localhost:8080/"
        },
        "id": "15d7f801",
        "outputId": "6b483b46-6163-4033-d85e-292372321a9e"
      },
      "source": [
        "import joblib\n",
        "import pandas as pd\n",
        "\n",
        "# Load the saved model and label encoder\n",
        "try:\n",
        "    loaded_model = joblib.load(\"final_model.pkl\")\n",
        "    loaded_label_encoder = joblib.load(\"label_encoder.pkl\")\n",
        "    print(\"Model and label encoder loaded successfully.\")\n",
        "except FileNotFoundError:\n",
        "    print(\"Error: Model or label encoder file not found. Please make sure 'final_model.pkl' and 'label_encoder.pkl' exist.\")\n",
        "except Exception as e:\n",
        "    print(f\"An error occurred while loading the files: {e}\")"
      ],
      "execution_count": null,
      "outputs": [
        {
          "output_type": "stream",
          "name": "stdout",
          "text": [
            "Model and label encoder loaded successfully.\n"
          ]
        }
      ]
    }
  ],
  "metadata": {
    "colab": {
      "provenance": [],
      "authorship_tag": "ABX9TyMyzXIg2woZGUz62taONho8",
      "include_colab_link": true
    },
    "kernelspec": {
      "display_name": "Python 3",
      "name": "python3"
    },
    "language_info": {
      "name": "python"
    }
  },
  "nbformat": 4,
  "nbformat_minor": 0
}